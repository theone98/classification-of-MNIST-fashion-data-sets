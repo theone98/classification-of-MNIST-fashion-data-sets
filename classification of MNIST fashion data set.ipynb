{
 "cells": [
  {
   "cell_type": "code",
   "execution_count": 3,
   "metadata": {},
   "outputs": [
    {
     "name": "stdout",
     "output_type": "stream",
     "text": [
      "2.0.0\n"
     ]
    }
   ],
   "source": [
    "import tensorflow as tf\n",
    "print(tf.__version__)"
   ]
  },
  {
   "cell_type": "code",
   "execution_count": 4,
   "metadata": {},
   "outputs": [],
   "source": [
    "import numpy as np\n",
    "import matplotlib.pyplot as plt\n",
    "from tensorflow.keras.layers import Input, Conv2D, Dense, Flatten, Dropout\n",
    "from tensorflow.keras.models import Model"
   ]
  },
  {
   "cell_type": "code",
   "execution_count": 8,
   "metadata": {},
   "outputs": [
    {
     "name": "stdout",
     "output_type": "stream",
     "text": [
      "Downloading data from https://storage.googleapis.com/tensorflow/tf-keras-datasets/train-labels-idx1-ubyte.gz\n",
      "32768/29515 [=================================] - 0s 4us/step\n",
      "Downloading data from https://storage.googleapis.com/tensorflow/tf-keras-datasets/train-images-idx3-ubyte.gz\n",
      "26427392/26421880 [==============================] - 72s 3us/step\n",
      "Downloading data from https://storage.googleapis.com/tensorflow/tf-keras-datasets/t10k-labels-idx1-ubyte.gz\n",
      "8192/5148 [===============================================] - 0s 0us/step\n",
      "Downloading data from https://storage.googleapis.com/tensorflow/tf-keras-datasets/t10k-images-idx3-ubyte.gz\n",
      "4423680/4422102 [==============================] - 9s 2us/step\n"
     ]
    }
   ],
   "source": [
    "fashion_mnist=tf.keras.datasets.fashion_mnist\n",
    " \n",
    "(x_train,y_train),(x_test,y_test)=fashion_mnist.load_data()\n",
    "x_train,x_test=x_train/255.0,x_test/255.0"
   ]
  },
  {
   "cell_type": "code",
   "execution_count": 18,
   "metadata": {},
   "outputs": [
    {
     "data": {
      "text/plain": [
       "(60000, 28, 28, 1)"
      ]
     },
     "execution_count": 18,
     "metadata": {},
     "output_type": "execute_result"
    }
   ],
   "source": [
    "x_train.shape"
   ]
  },
  {
   "cell_type": "code",
   "execution_count": 10,
   "metadata": {},
   "outputs": [],
   "source": [
    "# the data is only 2D!\n",
    "# convolution expects height x width x color\n",
    "x_train = np.expand_dims(x_train, -1)\n",
    "x_test = np.expand_dims(x_test, -1)"
   ]
  },
  {
   "cell_type": "code",
   "execution_count": 25,
   "metadata": {},
   "outputs": [
    {
     "data": {
      "text/plain": [
       "(60000,)"
      ]
     },
     "execution_count": 25,
     "metadata": {},
     "output_type": "execute_result"
    }
   ],
   "source": [
    "x_train.shape"
   ]
  },
  {
   "cell_type": "code",
   "execution_count": 21,
   "metadata": {},
   "outputs": [
    {
     "data": {
      "text/plain": [
       "10"
      ]
     },
     "execution_count": 21,
     "metadata": {},
     "output_type": "execute_result"
    }
   ],
   "source": [
    "#no. of classes\n",
    "k=len(set(y_train))\n",
    "k"
   ]
  },
  {
   "cell_type": "code",
   "execution_count": 23,
   "metadata": {},
   "outputs": [],
   "source": [
    "#building the model\n",
    "i=Input(shape=x_train[0].shape)\n",
    "x=Conv2D(32,(3,3),strides=2,activation='relu')(i)\n",
    "x=Conv2D(64,(3,3),strides=2,activation='relu')(x)\n",
    "x=Conv2D(128,(3,3),strides=2,activation='relu')(x)\n",
    "x=Flatten()(x)\n",
    "x=Dropout(0.2)(x)\n",
    "x = Dense(512, activation='relu')(x)\n",
    "x = Dropout(0.2)(x)\n",
    "x = Dense(k, activation='softmax')(x)\n",
    "\n",
    "model = Model(i, x)"
   ]
  },
  {
   "cell_type": "code",
   "execution_count": 26,
   "metadata": {},
   "outputs": [
    {
     "name": "stdout",
     "output_type": "stream",
     "text": [
      "Train on 10000 samples, validate on 10000 samples\n",
      "Epoch 1/15\n",
      "10000/10000 [==============================] - 6s 596us/sample - loss: 0.8263 - accuracy: 0.6997 - val_loss: 0.5635 - val_accuracy: 0.7876\n",
      "Epoch 2/15\n",
      "10000/10000 [==============================] - 5s 485us/sample - loss: 0.5542 - accuracy: 0.7931 - val_loss: 0.5017 - val_accuracy: 0.8145\n",
      "Epoch 3/15\n",
      "10000/10000 [==============================] - 5s 467us/sample - loss: 0.4807 - accuracy: 0.8196 - val_loss: 0.4138 - val_accuracy: 0.8450\n",
      "Epoch 4/15\n",
      "10000/10000 [==============================] - 5s 472us/sample - loss: 0.4328 - accuracy: 0.8331 - val_loss: 0.3798 - val_accuracy: 0.8569\n",
      "Epoch 5/15\n",
      "10000/10000 [==============================] - 5s 482us/sample - loss: 0.3950 - accuracy: 0.8514 - val_loss: 0.3333 - val_accuracy: 0.8767\n",
      "Epoch 6/15\n",
      "10000/10000 [==============================] - 4s 441us/sample - loss: 0.3648 - accuracy: 0.8635 - val_loss: 0.2983 - val_accuracy: 0.8864\n",
      "Epoch 7/15\n",
      "10000/10000 [==============================] - 4s 438us/sample - loss: 0.3318 - accuracy: 0.8731 - val_loss: 0.2614 - val_accuracy: 0.9024\n",
      "Epoch 8/15\n",
      "10000/10000 [==============================] - 4s 438us/sample - loss: 0.2994 - accuracy: 0.8845 - val_loss: 0.2440 - val_accuracy: 0.9073\n",
      "Epoch 9/15\n",
      "10000/10000 [==============================] - 4s 438us/sample - loss: 0.2687 - accuracy: 0.8991 - val_loss: 0.2144 - val_accuracy: 0.9201\n",
      "Epoch 10/15\n",
      "10000/10000 [==============================] - 5s 458us/sample - loss: 0.2505 - accuracy: 0.9051 - val_loss: 0.1945 - val_accuracy: 0.9310\n",
      "Epoch 11/15\n",
      "10000/10000 [==============================] - 5s 470us/sample - loss: 0.2298 - accuracy: 0.9112 - val_loss: 0.1528 - val_accuracy: 0.9474\n",
      "Epoch 12/15\n",
      "10000/10000 [==============================] - 5s 481us/sample - loss: 0.2001 - accuracy: 0.9241 - val_loss: 0.1372 - val_accuracy: 0.9517\n",
      "Epoch 13/15\n",
      "10000/10000 [==============================] - 5s 471us/sample - loss: 0.1835 - accuracy: 0.9311 - val_loss: 0.1170 - val_accuracy: 0.9595\n",
      "Epoch 14/15\n",
      "10000/10000 [==============================] - 5s 465us/sample - loss: 0.1692 - accuracy: 0.9349 - val_loss: 0.1137 - val_accuracy: 0.9569\n",
      "Epoch 15/15\n",
      "10000/10000 [==============================] - 5s 471us/sample - loss: 0.1455 - accuracy: 0.9449 - val_loss: 0.0896 - val_accuracy: 0.9713\n"
     ]
    }
   ],
   "source": [
    "model.compile(optimizer='adam',loss='sparse_categorical_crossentropy',metrics=['accuracy'])\n",
    "r=model.fit(x_test,y_test,validation_data=(x_test, y_test), epochs=15)"
   ]
  },
  {
   "cell_type": "code",
   "execution_count": 28,
   "metadata": {},
   "outputs": [
    {
     "data": {
      "text/plain": [
       "<matplotlib.legend.Legend at 0x225da193d88>"
      ]
     },
     "execution_count": 28,
     "metadata": {},
     "output_type": "execute_result"
    },
    {
     "data": {
      "image/png": "[encoded data removed]",
      "text/plain": [
       "<Figure size 432x288 with 1 Axes>"
      ]
     },
     "metadata": {
      "needs_background": "light"
     },
     "output_type": "display_data"
    }
   ],
   "source": [
    "import matplotlib.pyplot as plt\n",
    "plt.plot(r.history['loss'], label='loss')\n",
    "plt.plot(r.history['val_loss'], label='val_loss')\n",
    "plt.legend()\n"
   ]
  },
  {
   "cell_type": "code",
   "execution_count": 29,
   "metadata": {},
   "outputs": [
    {
     "data": {
      "text/plain": [
       "<matplotlib.legend.Legend at 0x225da23f9c8>"
      ]
     },
     "execution_count": 29,
     "metadata": {},
     "output_type": "execute_result"
    },
    {
     "data": {
      "image/png": "[encoded data removed]",
      "text/plain": [
       "<Figure size 432x288 with 1 Axes>"
      ]
     },
     "metadata": {
      "needs_background": "light"
     },
     "output_type": "display_data"
    }
   ],
   "source": [
    "plt.plot(r.history['accuracy'], label='acc')\n",
    "plt.plot(r.history['val_accuracy'], label='val_acc')\n",
    "plt.legend()"
   ]
  },
  {
   "cell_type": "code",
   "execution_count": 30,
   "metadata": {},
   "outputs": [
    {
     "name": "stdout",
     "output_type": "stream",
     "text": [
      "Confusion matrix, without normalization\n",
      "[[961   0   4  14   0   0  21   0   0   0]\n",
      " [  1 990   0   8   0   0   1   0   0   0]\n",
      " [  5   0 941   2  33   0  19   0   0   0]\n",
      " [  0   0   2 991   3   0   4   0   0   0]\n",
      " [  0   0  13   4 959   0  24   0   0   0]\n",
      " [  0   0   0   1   0 992   0   7   0   0]\n",
      " [ 26   0  23  10  39   0 901   0   1   0]\n",
      " [  0   0   0   0   0   0   0 997   0   3]\n",
      " [  1   0   0   1   0   0   0   0 998   0]\n",
      " [  0   0   0   0   0   0   0  17   0 983]]\n"
     ]
    },
    {
     "data": {
      "image/png": "[encoded data removed]",
      "text/plain": [
       "<Figure size 432x288 with 2 Axes>"
      ]
     },
     "metadata": {
      "needs_background": "light"
     },
     "output_type": "display_data"
    }
   ],
   "source": [
    "# Plot confusion matrix\n",
    "from sklearn.metrics import confusion_matrix\n",
    "import itertools\n",
    "\n",
    "def plot_confusion_matrix(cm, classes,\n",
    "                          normalize=False,\n",
    "                          title='Confusion matrix',\n",
    "                          cmap=plt.cm.Blues):\n",
    "  \"\"\"\n",
    "  This function prints and plots the confusion matrix.\n",
    "  Normalization can be applied by setting `normalize=True`.\n",
    "  \"\"\"\n",
    "  if normalize:\n",
    "      cm = cm.astype('float') / cm.sum(axis=1)[:, np.newaxis]\n",
    "      print(\"Normalized confusion matrix\")\n",
    "  else:\n",
    "      print('Confusion matrix, without normalization')\n",
    "\n",
    "  print(cm)\n",
    "\n",
    "  plt.imshow(cm, interpolation='nearest', cmap=cmap)\n",
    "  plt.title(title)\n",
    "  plt.colorbar()\n",
    "  tick_marks = np.arange(len(classes))\n",
    "  plt.xticks(tick_marks, classes, rotation=45)\n",
    "  plt.yticks(tick_marks, classes)\n",
    "\n",
    "  fmt = '.2f' if normalize else 'd'\n",
    "  thresh = cm.max() / 2.\n",
    "  for i, j in itertools.product(range(cm.shape[0]), range(cm.shape[1])):\n",
    "      plt.text(j, i, format(cm[i, j], fmt),\n",
    "               horizontalalignment=\"center\",\n",
    "               color=\"white\" if cm[i, j] > thresh else \"black\")\n",
    "\n",
    "  plt.tight_layout()\n",
    "  plt.ylabel('True label')\n",
    "  plt.xlabel('Predicted label')\n",
    "  plt.show()\n",
    "\n",
    "\n",
    "p_test = model.predict(x_test).argmax(axis=1)\n",
    "cm = confusion_matrix(y_test, p_test)\n",
    "plot_confusion_matrix(cm, list(range(10)))"
   ]
  },
  {
   "cell_type": "code",
   "execution_count": 32,
   "metadata": {},
   "outputs": [],
   "source": [
    "# Label mapping\n",
    "labels = '''T-shirt/top\n",
    "Trouser\n",
    "Pullover\n",
    "Dress\n",
    "Coat\n",
    "Sandal\n",
    "Shirt\n",
    "Sneaker\n",
    "Bag\n",
    "Ankle boot'''.split(\"\\n\")"
   ]
  },
  {
   "cell_type": "code",
   "execution_count": 33,
   "metadata": {},
   "outputs": [
    {
     "data": {
      "image/png": "[encoded data removed]",
      "text/plain": [
       "<Figure size 432x288 with 1 Axes>"
      ]
     },
     "metadata": {
      "needs_background": "light"
     },
     "output_type": "display_data"
    }
   ],
   "source": [
    "misclassified_idx = np.where(p_test != y_test)[0]\n",
    "i = np.random.choice(misclassified_idx)\n",
    "plt.imshow(x_test[i].reshape(28,28), cmap='gray')\n",
    "plt.title(\"True label: %s Predicted: %s\" % (labels[y_test[i]], labels[p_test[i]]));"
   ]
  },
  {
   "cell_type": "code",
   "execution_count": null,
   "metadata": {},
   "outputs": [],
   "source": []
  }
 ],
 "metadata": {
  "kernelspec": {
   "display_name": "Python 3",
   "language": "python",
   "name": "python3"
  },
  "language_info": {
   "codemirror_mode": {
    "name": "ipython",
    "version": 3
   },
   "file_extension": ".py",
   "mimetype": "text/x-python",
   "name": "python",
   "nbconvert_exporter": "python",
   "pygments_lexer": "ipython3",
   "version": "3.7.4"
  }
 },
 "nbformat": 4,
 "nbformat_minor": 2
}
